{
  "nbformat": 4,
  "nbformat_minor": 0,
  "metadata": {
    "colab": {
      "provenance": [],
      "collapsed_sections": [],
      "include_colab_link": true
    },
    "kernelspec": {
      "name": "python3",
      "display_name": "Python 3"
    },
    "language_info": {
      "name": "python"
    },
    "accelerator": "GPU"
  },
  "cells": [
    {
      "cell_type": "markdown",
      "metadata": {
        "id": "view-in-github",
        "colab_type": "text"
      },
      "source": [
        "<a href=\"https://colab.research.google.com/github/NijatShahverdiyev/Deep-Learning/blob/main/02_FCN_(Fully_Connected_NN).ipynb\" target=\"_parent\"><img src=\"https://colab.research.google.com/assets/colab-badge.svg\" alt=\"Open In Colab\"/></a>"
      ]
    },
    {
      "cell_type": "code",
      "execution_count": null,
      "metadata": {
        "id": "_U_ShCOd_cCd"
      },
      "outputs": [],
      "source": [
        "!pip install tensorflow"
      ]
    },
    {
      "cell_type": "code",
      "source": [
        "!python --version"
      ],
      "metadata": {
        "colab": {
          "base_uri": "https://localhost:8080/"
        },
        "id": "t98_cLE5JOlg",
        "outputId": "03bb805c-abaa-4ce3-9500-65f322f62b21"
      },
      "execution_count": null,
      "outputs": [
        {
          "output_type": "stream",
          "name": "stdout",
          "text": [
            "Python 3.7.14\n"
          ]
        }
      ]
    },
    {
      "cell_type": "code",
      "source": [
        "import tensorflow as tf;\n",
        "print(tf.__version__)"
      ],
      "metadata": {
        "colab": {
          "base_uri": "https://localhost:8080/"
        },
        "id": "7caN6QsdJOjC",
        "outputId": "a7d7952e-0a83-402d-fe32-b04cb76dfcb5"
      },
      "execution_count": null,
      "outputs": [
        {
          "output_type": "stream",
          "name": "stdout",
          "text": [
            "2.8.2\n"
          ]
        }
      ]
    },
    {
      "cell_type": "code",
      "source": [
        "import keras;\n",
        "print(keras.__version__)"
      ],
      "metadata": {
        "colab": {
          "base_uri": "https://localhost:8080/"
        },
        "id": "UX3pE2uqJOgc",
        "outputId": "6271f322-0657-4fcf-cd2a-34dc7400225c"
      },
      "execution_count": null,
      "outputs": [
        {
          "output_type": "stream",
          "name": "stdout",
          "text": [
            "2.8.0\n"
          ]
        }
      ]
    },
    {
      "cell_type": "code",
      "source": [
        "if tf.test.gpu_device_name():\n",
        "  print(\"Default GPU Device: {}\".format(tf.test.gpu_device_name()))\n",
        "else:\n",
        "  print(\"Please install GPU version of TF.\")"
      ],
      "metadata": {
        "colab": {
          "base_uri": "https://localhost:8080/"
        },
        "id": "ufhiO0mEJOdr",
        "outputId": "fe24859c-a499-4695-ec9a-a13df797cafe"
      },
      "execution_count": null,
      "outputs": [
        {
          "output_type": "stream",
          "name": "stdout",
          "text": [
            "Default GPU Device: /device:GPU:0\n"
          ]
        }
      ]
    },
    {
      "cell_type": "code",
      "source": [
        "tf.config.list_physical_devices('GPU')"
      ],
      "metadata": {
        "colab": {
          "base_uri": "https://localhost:8080/"
        },
        "id": "EyXtA2tlJqgY",
        "outputId": "86cbcf60-d960-451f-8483-7ee44cd895b6"
      },
      "execution_count": null,
      "outputs": [
        {
          "output_type": "execute_result",
          "data": {
            "text/plain": [
              "[PhysicalDevice(name='/physical_device:GPU:0', device_type='GPU')]"
            ]
          },
          "metadata": {},
          "execution_count": 3
        }
      ]
    },
    {
      "cell_type": "markdown",
      "source": [
        "# Importing"
      ],
      "metadata": {
        "id": "fLWxNBu7O4z9"
      }
    },
    {
      "cell_type": "code",
      "source": [
        "import numpy as np\n",
        "\n",
        "from keras.models import Sequential\n",
        "from keras.layers import Dense"
      ],
      "metadata": {
        "id": "Xzm3P0KeO6jV"
      },
      "execution_count": null,
      "outputs": []
    },
    {
      "cell_type": "markdown",
      "source": [
        "# Building the Neural Network"
      ],
      "metadata": {
        "id": "sI5fZhCFOzPf"
      }
    },
    {
      "cell_type": "code",
      "source": [
        "# Sequential Model\n",
        "\n",
        "    # https://stackoverflow.com/questions/57751417/what-is-meant-by-sequential-model-in-keras\n",
        "    # Sequential Model Vs. Functional API\n",
        "    # https://analyticsindiamag.com/a-tutorial-on-sequential-machine-learning/\n",
        "    # https://keras.io/api/models/sequential/\n",
        "    # https://keras.io/guides/sequential_model/\n",
        "    # [DL] Keras sequential vs functional API\n",
        "    # https://www.youtube.com/watch?v=EvGS3VAsG4Y\n",
        "    # Sequential Model - TensorFlow Essentials #1\n",
        "    # https://www.youtube.com/watch?v=MQD1yMnZ_jk\n",
        "    # Keras Sequential Model Explained | Keras Sequential Model Example | Keras Tutorial | Simplilearn\n",
        "    # https://www.youtube.com/watch?v=8uC-WT1LYnU\n",
        "\n",
        "model = Sequential()"
      ],
      "metadata": {
        "id": "F4yxiHeIOy99"
      },
      "execution_count": null,
      "outputs": []
    },
    {
      "cell_type": "code",
      "source": [
        "# Dense Layer\n",
        "\n",
        "    # https://analyticsindiamag.com/a-complete-understanding-of-dense-layers-in-neural-networks\n",
        "    # https://keras.io/api/layers/core_layers/dense/\n",
        "    # https://www.tutorialspoint.com/keras/keras_dense_layer.htm\n",
        "\n",
        "# Activation Functions\n",
        "\n",
        "    # Girişler ile ağırlıkları çarp, bias ile topla ve aktivasyon uygula...\n",
        "\n",
        "    # General\n",
        "\n",
        "        # http://buyukveri.firat.edu.tr/2018/04/17/derin-sinir-aglari-icin-aktivasyon-fonksiyonlari/\n",
        "        # https://dergipark.org.tr/tr/download/article-file/1148741         (AKTİVASYON FONKSİYONLARI)\n",
        "        # https://medium.com/databulls/yapay-sinir-a%C4%9Flar%C4%B1nda-aktivasyon-fonksiyonlar%C4%B1-11002b8ac522\n",
        "        # https://machinelearningmastery.com/choose-an-activation-function-for-deep-learning/\n",
        "        # https://towardsdatascience.com/activation-functions-neural-networks-1cbd9f8d91d6\n",
        "        # https://medium.com/the-theory-of-everything/understanding-activation-functions-in-neural-networks-9491262884e0\n",
        "        # https://www.v7labs.com/blog/neural-networks-activation-functions\n",
        "\n",
        "    # Keras\n",
        "\n",
        "        # https://keras.io/api/layers/activation_layers/\n",
        "        # https://keras.io/api/layers/core_layers/activation/    \n",
        "\n",
        "\n",
        "model.add(Dense(8, activation='relu', input_dim=4))\n",
        "model.add(Dense(16, activation='relu'))\n",
        "model.add(Dense(32, activation='relu'))\n",
        "model.add(Dense(64, activation='relu'))\n",
        "model.add(Dense(32, activation='relu'))\n",
        "model.add(Dense(16, activation='relu'))\n",
        "model.add(Dense(8, activation='relu'))\n",
        "model.add(Dense(1, activation='linear'))"
      ],
      "metadata": {
        "id": "NV4Un1OnJ32M"
      },
      "execution_count": null,
      "outputs": []
    },
    {
      "cell_type": "markdown",
      "source": [
        "# Compile the Model"
      ],
      "metadata": {
        "id": "t5L_oP74ToMj"
      }
    },
    {
      "cell_type": "code",
      "source": [
        "model.compile(\n",
        "  optimizer='adam',\n",
        "  loss='mean_squared_error'  \n",
        ")"
      ],
      "metadata": {
        "id": "fPwTWZjETnpC"
      },
      "execution_count": null,
      "outputs": []
    },
    {
      "cell_type": "code",
      "source": [
        "x_train = np.array([\n",
        "    [1, 2, 3, 4],\n",
        "    [4, 6, 1, 2],\n",
        "    [10, 9, 10, 11],\n",
        "    [10, 12, 9, 13],\n",
        "    [99, 100, 101, 102],\n",
        "    [105, 111, 109, 102]\n",
        "])\n",
        "\n",
        "y_train = np.array([\n",
        "    [2.5],\n",
        "    [3.25],\n",
        "    [10.0],\n",
        "    [11.0],\n",
        "    [100.5],\n",
        "    [106.75]\n",
        "])"
      ],
      "metadata": {
        "id": "5oL4sPXBWbRx"
      },
      "execution_count": null,
      "outputs": []
    },
    {
      "cell_type": "code",
      "source": [
        "model.fit(\n",
        "    x_train,\n",
        "    y_train,\n",
        "    batch_size=2,\n",
        "    epochs=100,\n",
        "    verbose=1\n",
        ")\n",
        "\n",
        "# Epoch\n",
        "\n",
        "    # Model eğitilirken verilerin tamamı aynı anda eğitime katılmaz. \n",
        "    # Belli sayıda parçalar halinde eğitimde yer alırlar. \n",
        "    # İlk parça eğitilir, modelin başarımı test edilir, başarıma göre geriyeyayılım(“backpropagation”) ile ağırlıklar güncellenir. \n",
        "    # Daha sonra yeni eğitim kümesi ile model tekrar eğitilip ağırlıklar tekrar güncellenir. \n",
        "    # Bu işlem her bir eğitim adımında tekrarlanarak model için en uygun ağırlık değerleri hesaplanmaya çalışılır. \n",
        "    # Bu eğitim adımlarının her birine “epoch” denilmektedir.\n",
        "\n",
        "# Batch Size\n",
        "\n",
        "    # The batch size is the number of samples that will be passed through to the network at one time. (\"batch\" a.k.a. \"mini-batch\")\n",
        "    # Batch Size != Epoch\n",
        "    # 1000 images/10 = 100 batches per epoch.\n",
        "    # Larger Batches = Faster Training\n",
        "\n",
        "    # Batch Size, ML’de kullanılan bir terimdir ve bir yinelemede(iteration) kullanılan eğitim örneklerinin sayısını ifade eder. \n",
        "    # Batch Size üç seçenekten biri olabilir:\n",
        "    \n",
        "    #     - Batch Mode\n",
        "    #         Batch Size’ın toplam veri setine eşit olduğu ve böylece yineleme ve dönem değerlerini eşdeğer kıldığı…\n",
        "    #     - Mini-Batch Mode\n",
        "    #         Batch Size’ın birden büyük ancak toplam veri kümesi boyutundan küçük olduğu durumlarda… Genellikle, toplam veri kümesi boyutuna bölünebilen bir sayı.\n",
        "    #     - Stochastic Mode\n",
        "    #         Batch Size bire eşittir. Bu nedenle, gradient ve neural network parametreleri her sample’dan sonra güncellenir.\n"
      ],
      "metadata": {
        "id": "fHhbbMwqWkO7",
        "colab": {
          "base_uri": "https://localhost:8080/"
        },
        "outputId": "0264d2ba-675e-4f86-c2e4-229e0279894a"
      },
      "execution_count": null,
      "outputs": [
        {
          "output_type": "stream",
          "name": "stdout",
          "text": [
            "Epoch 1/100\n",
            "3/3 [==============================] - 1s 5ms/step - loss: 3559.2327\n",
            "Epoch 2/100\n",
            "3/3 [==============================] - 0s 4ms/step - loss: 3519.3391\n",
            "Epoch 3/100\n",
            "3/3 [==============================] - 0s 4ms/step - loss: 3488.3933\n",
            "Epoch 4/100\n",
            "3/3 [==============================] - 0s 4ms/step - loss: 3440.7805\n",
            "Epoch 5/100\n",
            "3/3 [==============================] - 0s 4ms/step - loss: 3368.9714\n",
            "Epoch 6/100\n",
            "3/3 [==============================] - 0s 4ms/step - loss: 3322.7402\n",
            "Epoch 7/100\n",
            "3/3 [==============================] - 0s 4ms/step - loss: 3252.1155\n",
            "Epoch 8/100\n",
            "3/3 [==============================] - 0s 4ms/step - loss: 3124.5300\n",
            "Epoch 9/100\n",
            "3/3 [==============================] - 0s 4ms/step - loss: 2989.8047\n",
            "Epoch 10/100\n",
            "3/3 [==============================] - 0s 4ms/step - loss: 2833.0852\n",
            "Epoch 11/100\n",
            "3/3 [==============================] - 0s 4ms/step - loss: 2692.5208\n",
            "Epoch 12/100\n",
            "3/3 [==============================] - 0s 6ms/step - loss: 2376.2227\n",
            "Epoch 13/100\n",
            "3/3 [==============================] - 0s 4ms/step - loss: 2106.2646\n",
            "Epoch 14/100\n",
            "3/3 [==============================] - 0s 4ms/step - loss: 1754.0731\n",
            "Epoch 15/100\n",
            "3/3 [==============================] - 0s 4ms/step - loss: 1399.5480\n",
            "Epoch 16/100\n",
            "3/3 [==============================] - 0s 5ms/step - loss: 884.5577\n",
            "Epoch 17/100\n",
            "3/3 [==============================] - 0s 5ms/step - loss: 479.5409\n",
            "Epoch 18/100\n",
            "3/3 [==============================] - 0s 5ms/step - loss: 239.2242\n",
            "Epoch 19/100\n",
            "3/3 [==============================] - 0s 5ms/step - loss: 11.4251\n",
            "Epoch 20/100\n",
            "3/3 [==============================] - 0s 5ms/step - loss: 119.2889\n",
            "Epoch 21/100\n",
            "3/3 [==============================] - 0s 4ms/step - loss: 131.6757\n",
            "Epoch 22/100\n",
            "3/3 [==============================] - 0s 4ms/step - loss: 78.4195\n",
            "Epoch 23/100\n",
            "3/3 [==============================] - 0s 4ms/step - loss: 11.8372\n",
            "Epoch 24/100\n",
            "3/3 [==============================] - 0s 5ms/step - loss: 25.5254\n",
            "Epoch 25/100\n",
            "3/3 [==============================] - 0s 4ms/step - loss: 42.5050\n",
            "Epoch 26/100\n",
            "3/3 [==============================] - 0s 4ms/step - loss: 32.7909\n",
            "Epoch 27/100\n",
            "3/3 [==============================] - 0s 7ms/step - loss: 12.2921\n",
            "Epoch 28/100\n",
            "3/3 [==============================] - 0s 5ms/step - loss: 5.8231\n",
            "Epoch 29/100\n",
            "3/3 [==============================] - 0s 5ms/step - loss: 3.9457\n",
            "Epoch 30/100\n",
            "3/3 [==============================] - 0s 5ms/step - loss: 9.6662\n",
            "Epoch 31/100\n",
            "3/3 [==============================] - 0s 5ms/step - loss: 8.9705\n",
            "Epoch 32/100\n",
            "3/3 [==============================] - 0s 5ms/step - loss: 5.6057\n",
            "Epoch 33/100\n",
            "3/3 [==============================] - 0s 6ms/step - loss: 1.8834\n",
            "Epoch 34/100\n",
            "3/3 [==============================] - 0s 4ms/step - loss: 3.9072\n",
            "Epoch 35/100\n",
            "3/3 [==============================] - 0s 4ms/step - loss: 3.9138\n",
            "Epoch 36/100\n",
            "3/3 [==============================] - 0s 4ms/step - loss: 2.8247\n",
            "Epoch 37/100\n",
            "3/3 [==============================] - 0s 5ms/step - loss: 2.3840\n",
            "Epoch 38/100\n",
            "3/3 [==============================] - 0s 5ms/step - loss: 1.8373\n",
            "Epoch 39/100\n",
            "3/3 [==============================] - 0s 4ms/step - loss: 2.4154\n",
            "Epoch 40/100\n",
            "3/3 [==============================] - 0s 4ms/step - loss: 1.9697\n",
            "Epoch 41/100\n",
            "3/3 [==============================] - 0s 7ms/step - loss: 1.4922\n",
            "Epoch 42/100\n",
            "3/3 [==============================] - 0s 4ms/step - loss: 1.3455\n",
            "Epoch 43/100\n",
            "3/3 [==============================] - 0s 4ms/step - loss: 2.1731\n",
            "Epoch 44/100\n",
            "3/3 [==============================] - 0s 4ms/step - loss: 1.6445\n",
            "Epoch 45/100\n",
            "3/3 [==============================] - 0s 5ms/step - loss: 1.3370\n",
            "Epoch 46/100\n",
            "3/3 [==============================] - 0s 5ms/step - loss: 1.5444\n",
            "Epoch 47/100\n",
            "3/3 [==============================] - 0s 5ms/step - loss: 1.5523\n",
            "Epoch 48/100\n",
            "3/3 [==============================] - 0s 4ms/step - loss: 1.2538\n",
            "Epoch 49/100\n",
            "3/3 [==============================] - 0s 5ms/step - loss: 1.2077\n",
            "Epoch 50/100\n",
            "3/3 [==============================] - 0s 5ms/step - loss: 1.2691\n",
            "Epoch 51/100\n",
            "3/3 [==============================] - 0s 4ms/step - loss: 1.1990\n",
            "Epoch 52/100\n",
            "3/3 [==============================] - 0s 5ms/step - loss: 1.1496\n",
            "Epoch 53/100\n",
            "3/3 [==============================] - 0s 4ms/step - loss: 1.1723\n",
            "Epoch 54/100\n",
            "3/3 [==============================] - 0s 4ms/step - loss: 1.1071\n",
            "Epoch 55/100\n",
            "3/3 [==============================] - 0s 4ms/step - loss: 1.1602\n",
            "Epoch 56/100\n",
            "3/3 [==============================] - 0s 5ms/step - loss: 1.0653\n",
            "Epoch 57/100\n",
            "3/3 [==============================] - 0s 8ms/step - loss: 1.0797\n",
            "Epoch 58/100\n",
            "3/3 [==============================] - 0s 5ms/step - loss: 1.0436\n",
            "Epoch 59/100\n",
            "3/3 [==============================] - 0s 4ms/step - loss: 1.0850\n",
            "Epoch 60/100\n",
            "3/3 [==============================] - 0s 4ms/step - loss: 1.0318\n",
            "Epoch 61/100\n",
            "3/3 [==============================] - 0s 4ms/step - loss: 1.0494\n",
            "Epoch 62/100\n",
            "3/3 [==============================] - 0s 4ms/step - loss: 1.0125\n",
            "Epoch 63/100\n",
            "3/3 [==============================] - 0s 5ms/step - loss: 0.9883\n",
            "Epoch 64/100\n",
            "3/3 [==============================] - 0s 5ms/step - loss: 1.0391\n",
            "Epoch 65/100\n",
            "3/3 [==============================] - 0s 5ms/step - loss: 0.9492\n",
            "Epoch 66/100\n",
            "3/3 [==============================] - 0s 4ms/step - loss: 0.9772\n",
            "Epoch 67/100\n",
            "3/3 [==============================] - 0s 4ms/step - loss: 0.9504\n",
            "Epoch 68/100\n",
            "3/3 [==============================] - 0s 4ms/step - loss: 0.9241\n",
            "Epoch 69/100\n",
            "3/3 [==============================] - 0s 4ms/step - loss: 0.9387\n",
            "Epoch 70/100\n",
            "3/3 [==============================] - 0s 4ms/step - loss: 0.9044\n",
            "Epoch 71/100\n",
            "3/3 [==============================] - 0s 7ms/step - loss: 0.9114\n",
            "Epoch 72/100\n",
            "3/3 [==============================] - 0s 5ms/step - loss: 0.9004\n",
            "Epoch 73/100\n",
            "3/3 [==============================] - 0s 5ms/step - loss: 0.8933\n",
            "Epoch 74/100\n",
            "3/3 [==============================] - 0s 5ms/step - loss: 0.8677\n",
            "Epoch 75/100\n",
            "3/3 [==============================] - 0s 5ms/step - loss: 0.8658\n",
            "Epoch 76/100\n",
            "3/3 [==============================] - 0s 4ms/step - loss: 0.8371\n",
            "Epoch 77/100\n",
            "3/3 [==============================] - 0s 4ms/step - loss: 0.8722\n",
            "Epoch 78/100\n",
            "3/3 [==============================] - 0s 4ms/step - loss: 0.8268\n",
            "Epoch 79/100\n",
            "3/3 [==============================] - 0s 4ms/step - loss: 0.8105\n",
            "Epoch 80/100\n",
            "3/3 [==============================] - 0s 5ms/step - loss: 0.8087\n",
            "Epoch 81/100\n",
            "3/3 [==============================] - 0s 5ms/step - loss: 0.7952\n",
            "Epoch 82/100\n",
            "3/3 [==============================] - 0s 5ms/step - loss: 0.7723\n",
            "Epoch 83/100\n",
            "3/3 [==============================] - 0s 5ms/step - loss: 0.7582\n",
            "Epoch 84/100\n",
            "3/3 [==============================] - 0s 5ms/step - loss: 0.7477\n",
            "Epoch 85/100\n",
            "3/3 [==============================] - 0s 5ms/step - loss: 0.9021\n",
            "Epoch 86/100\n",
            "3/3 [==============================] - 0s 4ms/step - loss: 0.7012\n",
            "Epoch 87/100\n",
            "3/3 [==============================] - 0s 5ms/step - loss: 0.9264\n",
            "Epoch 88/100\n",
            "3/3 [==============================] - 0s 5ms/step - loss: 0.7347\n",
            "Epoch 89/100\n",
            "3/3 [==============================] - 0s 4ms/step - loss: 0.8201\n",
            "Epoch 90/100\n",
            "3/3 [==============================] - 0s 4ms/step - loss: 0.7201\n",
            "Epoch 91/100\n",
            "3/3 [==============================] - 0s 6ms/step - loss: 0.7136\n",
            "Epoch 92/100\n",
            "3/3 [==============================] - 0s 5ms/step - loss: 0.7523\n",
            "Epoch 93/100\n",
            "3/3 [==============================] - 0s 5ms/step - loss: 0.6989\n",
            "Epoch 94/100\n",
            "3/3 [==============================] - 0s 5ms/step - loss: 0.8883\n",
            "Epoch 95/100\n",
            "3/3 [==============================] - 0s 5ms/step - loss: 0.6820\n",
            "Epoch 96/100\n",
            "3/3 [==============================] - 0s 8ms/step - loss: 0.7863\n",
            "Epoch 97/100\n",
            "3/3 [==============================] - 0s 7ms/step - loss: 0.7238\n",
            "Epoch 98/100\n",
            "3/3 [==============================] - 0s 5ms/step - loss: 0.7852\n",
            "Epoch 99/100\n",
            "3/3 [==============================] - 0s 4ms/step - loss: 0.8267\n",
            "Epoch 100/100\n",
            "3/3 [==============================] - 0s 5ms/step - loss: 0.8659\n"
          ]
        },
        {
          "output_type": "execute_result",
          "data": {
            "text/plain": [
              "<keras.callbacks.History at 0x7f72f00c7a90>"
            ]
          },
          "metadata": {},
          "execution_count": 12
        }
      ]
    },
    {
      "cell_type": "markdown",
      "source": [
        "# Separate Training - Validation Data (Automatically)"
      ],
      "metadata": {
        "id": "ghdCR02zYNI1"
      }
    },
    {
      "cell_type": "code",
      "source": [
        "model.fit(\n",
        "    x_train,\n",
        "    y_train,\n",
        "    batch_size=2,\n",
        "    epochs=100,\n",
        "    verbose=1,\n",
        "    validation_split=0.2\n",
        ")"
      ],
      "metadata": {
        "id": "x1-anGVbXtTs",
        "colab": {
          "base_uri": "https://localhost:8080/"
        },
        "outputId": "023a046b-37c9-4dd6-e718-f9d436a28bdb"
      },
      "execution_count": null,
      "outputs": [
        {
          "output_type": "stream",
          "name": "stdout",
          "text": [
            "Epoch 1/100\n",
            "2/2 [==============================] - 0s 160ms/step - loss: 1.0487 - val_loss: 0.0473\n",
            "Epoch 2/100\n",
            "2/2 [==============================] - 0s 19ms/step - loss: 0.9900 - val_loss: 0.0584\n",
            "Epoch 3/100\n",
            "2/2 [==============================] - 0s 26ms/step - loss: 0.9625 - val_loss: 0.4750\n",
            "Epoch 4/100\n",
            "2/2 [==============================] - 0s 21ms/step - loss: 0.9111 - val_loss: 1.3496\n",
            "Epoch 5/100\n",
            "2/2 [==============================] - 0s 20ms/step - loss: 0.8595 - val_loss: 2.6917\n",
            "Epoch 6/100\n",
            "2/2 [==============================] - 0s 19ms/step - loss: 0.8084 - val_loss: 4.4817\n",
            "Epoch 7/100\n",
            "2/2 [==============================] - 0s 25ms/step - loss: 0.7613 - val_loss: 6.6964\n",
            "Epoch 8/100\n",
            "2/2 [==============================] - 0s 25ms/step - loss: 0.6983 - val_loss: 9.0642\n",
            "Epoch 9/100\n",
            "2/2 [==============================] - 0s 19ms/step - loss: 0.6611 - val_loss: 11.7533\n",
            "Epoch 10/100\n",
            "2/2 [==============================] - 0s 19ms/step - loss: 0.6258 - val_loss: 14.7015\n",
            "Epoch 11/100\n",
            "2/2 [==============================] - 0s 21ms/step - loss: 0.6165 - val_loss: 18.2381\n",
            "Epoch 12/100\n",
            "2/2 [==============================] - 0s 20ms/step - loss: 0.5657 - val_loss: 21.5210\n",
            "Epoch 13/100\n",
            "2/2 [==============================] - 0s 21ms/step - loss: 0.5606 - val_loss: 25.3245\n",
            "Epoch 14/100\n",
            "2/2 [==============================] - 0s 20ms/step - loss: 0.5172 - val_loss: 28.7964\n",
            "Epoch 15/100\n",
            "2/2 [==============================] - 0s 20ms/step - loss: 0.5147 - val_loss: 33.6180\n",
            "Epoch 16/100\n",
            "2/2 [==============================] - 0s 22ms/step - loss: 0.4689 - val_loss: 38.0748\n",
            "Epoch 17/100\n",
            "2/2 [==============================] - 0s 22ms/step - loss: 0.4509 - val_loss: 43.3426\n",
            "Epoch 18/100\n",
            "2/2 [==============================] - 0s 20ms/step - loss: 0.4557 - val_loss: 50.0746\n",
            "Epoch 19/100\n",
            "2/2 [==============================] - 0s 19ms/step - loss: 0.4388 - val_loss: 56.7145\n",
            "Epoch 20/100\n",
            "2/2 [==============================] - 0s 19ms/step - loss: 0.4102 - val_loss: 61.7798\n",
            "Epoch 21/100\n",
            "2/2 [==============================] - 0s 20ms/step - loss: 0.4126 - val_loss: 67.6217\n",
            "Epoch 22/100\n",
            "2/2 [==============================] - 0s 23ms/step - loss: 0.4120 - val_loss: 73.3964\n",
            "Epoch 23/100\n",
            "2/2 [==============================] - 0s 21ms/step - loss: 0.4063 - val_loss: 78.5591\n",
            "Epoch 24/100\n",
            "2/2 [==============================] - 0s 24ms/step - loss: 0.3931 - val_loss: 81.5751\n",
            "Epoch 25/100\n",
            "2/2 [==============================] - 0s 21ms/step - loss: 0.3920 - val_loss: 84.1406\n",
            "Epoch 26/100\n",
            "2/2 [==============================] - 0s 23ms/step - loss: 0.3932 - val_loss: 87.2726\n",
            "Epoch 27/100\n",
            "2/2 [==============================] - 0s 20ms/step - loss: 0.3956 - val_loss: 90.3626\n",
            "Epoch 28/100\n",
            "2/2 [==============================] - 0s 21ms/step - loss: 0.3898 - val_loss: 91.8217\n",
            "Epoch 29/100\n",
            "2/2 [==============================] - 0s 22ms/step - loss: 0.3918 - val_loss: 93.8314\n",
            "Epoch 30/100\n",
            "2/2 [==============================] - 0s 20ms/step - loss: 0.3874 - val_loss: 94.6919\n",
            "Epoch 31/100\n",
            "2/2 [==============================] - 0s 20ms/step - loss: 0.3883 - val_loss: 95.7973\n",
            "Epoch 32/100\n",
            "2/2 [==============================] - 0s 22ms/step - loss: 0.3868 - val_loss: 96.4650\n",
            "Epoch 33/100\n",
            "2/2 [==============================] - 0s 22ms/step - loss: 0.3850 - val_loss: 96.7900\n",
            "Epoch 34/100\n",
            "2/2 [==============================] - 0s 21ms/step - loss: 0.3832 - val_loss: 96.8417\n",
            "Epoch 35/100\n",
            "2/2 [==============================] - 0s 46ms/step - loss: 0.3815 - val_loss: 96.6866\n",
            "Epoch 36/100\n",
            "2/2 [==============================] - 0s 22ms/step - loss: 0.3797 - val_loss: 96.3862\n",
            "Epoch 37/100\n",
            "2/2 [==============================] - 0s 22ms/step - loss: 0.3784 - val_loss: 95.9913\n",
            "Epoch 38/100\n",
            "2/2 [==============================] - 0s 21ms/step - loss: 0.3768 - val_loss: 95.5372\n",
            "Epoch 39/100\n",
            "2/2 [==============================] - 0s 21ms/step - loss: 0.3787 - val_loss: 93.6046\n",
            "Epoch 40/100\n",
            "2/2 [==============================] - 0s 21ms/step - loss: 0.3747 - val_loss: 93.5003\n",
            "Epoch 41/100\n",
            "2/2 [==============================] - 0s 21ms/step - loss: 0.3736 - val_loss: 93.3935\n",
            "Epoch 42/100\n",
            "2/2 [==============================] - 0s 20ms/step - loss: 0.3723 - val_loss: 92.4143\n",
            "Epoch 43/100\n",
            "2/2 [==============================] - 0s 22ms/step - loss: 0.3719 - val_loss: 92.5497\n",
            "Epoch 44/100\n",
            "2/2 [==============================] - 0s 20ms/step - loss: 0.3709 - val_loss: 92.6671\n",
            "Epoch 45/100\n",
            "2/2 [==============================] - 0s 23ms/step - loss: 0.3722 - val_loss: 91.3743\n",
            "Epoch 46/100\n",
            "2/2 [==============================] - 0s 20ms/step - loss: 0.3698 - val_loss: 91.8641\n",
            "Epoch 47/100\n",
            "2/2 [==============================] - 0s 20ms/step - loss: 0.3690 - val_loss: 92.3497\n",
            "Epoch 48/100\n",
            "2/2 [==============================] - 0s 20ms/step - loss: 0.3692 - val_loss: 91.4379\n",
            "Epoch 49/100\n",
            "2/2 [==============================] - 0s 20ms/step - loss: 0.3682 - val_loss: 92.2608\n",
            "Epoch 50/100\n",
            "2/2 [==============================] - 0s 24ms/step - loss: 0.3675 - val_loss: 91.6068\n",
            "Epoch 51/100\n",
            "2/2 [==============================] - 0s 20ms/step - loss: 0.3671 - val_loss: 91.1772\n",
            "Epoch 52/100\n",
            "2/2 [==============================] - 0s 21ms/step - loss: 0.3647 - val_loss: 91.5782\n",
            "Epoch 53/100\n",
            "2/2 [==============================] - 0s 20ms/step - loss: 0.3640 - val_loss: 92.0648\n",
            "Epoch 54/100\n",
            "2/2 [==============================] - 0s 27ms/step - loss: 0.3644 - val_loss: 92.0783\n",
            "Epoch 55/100\n",
            "2/2 [==============================] - 0s 22ms/step - loss: 0.3651 - val_loss: 93.6421\n",
            "Epoch 56/100\n",
            "2/2 [==============================] - 0s 22ms/step - loss: 0.3635 - val_loss: 93.6028\n",
            "Epoch 57/100\n",
            "2/2 [==============================] - 0s 20ms/step - loss: 0.3616 - val_loss: 94.6190\n",
            "Epoch 58/100\n",
            "2/2 [==============================] - 0s 21ms/step - loss: 0.3634 - val_loss: 96.1882\n",
            "Epoch 59/100\n",
            "2/2 [==============================] - 0s 24ms/step - loss: 0.3622 - val_loss: 97.5012\n",
            "Epoch 60/100\n",
            "2/2 [==============================] - 0s 21ms/step - loss: 0.3609 - val_loss: 97.2199\n",
            "Epoch 61/100\n",
            "2/2 [==============================] - 0s 22ms/step - loss: 0.3607 - val_loss: 97.0248\n",
            "Epoch 62/100\n",
            "2/2 [==============================] - 0s 21ms/step - loss: 0.3610 - val_loss: 98.5040\n",
            "Epoch 63/100\n",
            "2/2 [==============================] - 0s 21ms/step - loss: 0.3592 - val_loss: 98.2943\n",
            "Epoch 64/100\n",
            "2/2 [==============================] - 0s 20ms/step - loss: 0.3596 - val_loss: 99.6278\n",
            "Epoch 65/100\n",
            "2/2 [==============================] - 0s 26ms/step - loss: 0.3587 - val_loss: 99.2824\n",
            "Epoch 66/100\n",
            "2/2 [==============================] - 0s 21ms/step - loss: 0.3585 - val_loss: 100.5674\n",
            "Epoch 67/100\n",
            "2/2 [==============================] - 0s 22ms/step - loss: 0.3559 - val_loss: 100.8241\n",
            "Epoch 68/100\n",
            "2/2 [==============================] - 0s 22ms/step - loss: 0.3575 - val_loss: 101.9864\n",
            "Epoch 69/100\n",
            "2/2 [==============================] - 0s 20ms/step - loss: 0.3570 - val_loss: 101.3881\n",
            "Epoch 70/100\n",
            "2/2 [==============================] - 0s 20ms/step - loss: 0.3563 - val_loss: 102.4644\n",
            "Epoch 71/100\n",
            "2/2 [==============================] - 0s 26ms/step - loss: 0.3556 - val_loss: 103.3674\n",
            "Epoch 72/100\n",
            "2/2 [==============================] - 0s 21ms/step - loss: 0.3535 - val_loss: 103.4989\n",
            "Epoch 73/100\n",
            "2/2 [==============================] - 0s 21ms/step - loss: 0.3531 - val_loss: 103.4090\n",
            "Epoch 74/100\n",
            "2/2 [==============================] - 0s 21ms/step - loss: 0.3543 - val_loss: 102.7555\n",
            "Epoch 75/100\n",
            "2/2 [==============================] - 0s 25ms/step - loss: 0.3521 - val_loss: 103.1269\n",
            "Epoch 76/100\n",
            "2/2 [==============================] - 0s 20ms/step - loss: 0.3532 - val_loss: 102.6488\n",
            "Epoch 77/100\n",
            "2/2 [==============================] - 0s 21ms/step - loss: 0.3532 - val_loss: 102.2731\n",
            "Epoch 78/100\n",
            "2/2 [==============================] - 0s 21ms/step - loss: 0.3529 - val_loss: 103.5935\n",
            "Epoch 79/100\n",
            "2/2 [==============================] - 0s 20ms/step - loss: 0.3526 - val_loss: 104.8121\n",
            "Epoch 80/100\n",
            "2/2 [==============================] - 0s 21ms/step - loss: 0.3499 - val_loss: 105.1442\n",
            "Epoch 81/100\n",
            "2/2 [==============================] - 0s 20ms/step - loss: 0.3495 - val_loss: 105.4579\n",
            "Epoch 82/100\n",
            "2/2 [==============================] - 0s 26ms/step - loss: 0.3507 - val_loss: 106.3862\n",
            "Epoch 83/100\n",
            "2/2 [==============================] - 0s 22ms/step - loss: 0.3486 - val_loss: 106.5270\n",
            "Epoch 84/100\n",
            "2/2 [==============================] - 0s 20ms/step - loss: 0.3483 - val_loss: 106.4688\n",
            "Epoch 85/100\n",
            "2/2 [==============================] - 0s 20ms/step - loss: 0.3478 - val_loss: 106.6696\n",
            "Epoch 86/100\n",
            "2/2 [==============================] - 0s 20ms/step - loss: 0.3491 - val_loss: 106.0330\n",
            "Epoch 87/100\n",
            "2/2 [==============================] - 0s 19ms/step - loss: 0.3485 - val_loss: 105.5950\n",
            "Epoch 88/100\n",
            "2/2 [==============================] - 0s 22ms/step - loss: 0.3480 - val_loss: 105.3359\n",
            "Epoch 89/100\n",
            "2/2 [==============================] - 0s 20ms/step - loss: 0.3488 - val_loss: 106.8045\n",
            "Epoch 90/100\n",
            "2/2 [==============================] - 0s 20ms/step - loss: 0.3472 - val_loss: 106.4965\n",
            "Epoch 91/100\n",
            "2/2 [==============================] - 0s 20ms/step - loss: 0.3475 - val_loss: 107.8326\n",
            "Epoch 92/100\n",
            "2/2 [==============================] - 0s 20ms/step - loss: 0.3470 - val_loss: 107.3976\n",
            "Epoch 93/100\n",
            "2/2 [==============================] - 0s 20ms/step - loss: 0.3446 - val_loss: 107.8624\n",
            "Epoch 94/100\n",
            "2/2 [==============================] - 0s 20ms/step - loss: 0.3442 - val_loss: 108.3199\n",
            "Epoch 95/100\n",
            "2/2 [==============================] - 0s 20ms/step - loss: 0.3458 - val_loss: 109.6261\n",
            "Epoch 96/100\n",
            "2/2 [==============================] - 0s 20ms/step - loss: 0.3456 - val_loss: 110.8191\n",
            "Epoch 97/100\n",
            "2/2 [==============================] - 0s 25ms/step - loss: 0.3450 - val_loss: 111.8066\n",
            "Epoch 98/100\n",
            "2/2 [==============================] - 0s 20ms/step - loss: 0.3428 - val_loss: 111.6636\n",
            "Epoch 99/100\n",
            "2/2 [==============================] - 0s 19ms/step - loss: 0.3441 - val_loss: 110.8870\n",
            "Epoch 100/100\n",
            "2/2 [==============================] - 0s 20ms/step - loss: 0.3419 - val_loss: 110.9783\n"
          ]
        },
        {
          "output_type": "execute_result",
          "data": {
            "text/plain": [
              "<keras.callbacks.History at 0x7f72f020ec90>"
            ]
          },
          "metadata": {},
          "execution_count": 13
        }
      ]
    },
    {
      "cell_type": "markdown",
      "source": [
        "# Separate Training - Validation Data (Manually)"
      ],
      "metadata": {
        "id": "wFfYGnKpZVxS"
      }
    },
    {
      "cell_type": "code",
      "source": [
        "x_val = np.array([\n",
        "    [1.5, 4, 3, 2.5],\n",
        "    [10, 14, 11.5, 12],\n",
        "    [111, 99, 105, 107]\n",
        "])\n",
        "\n",
        "y_val = np.array([\n",
        "    [2.75],\n",
        "    [11.875],\n",
        "    [105.5]\n",
        "])"
      ],
      "metadata": {
        "id": "2WKAacjtZfUA"
      },
      "execution_count": null,
      "outputs": []
    },
    {
      "cell_type": "code",
      "source": [
        "model.fit(\n",
        "    x_train,\n",
        "    y_train,\n",
        "    batch_size = 2,\n",
        "    epochs=100,\n",
        "    verbose=1,\n",
        "    validation_data = (x_val, y_val)\n",
        ")"
      ],
      "metadata": {
        "id": "5pHU2vb6Zh4m"
      },
      "execution_count": null,
      "outputs": []
    },
    {
      "cell_type": "markdown",
      "source": [
        "# Evaluate a Keras Model with Test Data"
      ],
      "metadata": {
        "id": "iVy4y5NEZuPt"
      }
    },
    {
      "cell_type": "code",
      "source": [
        "x_test = np.array([\n",
        "    [2, 5, 4.5, 1],\n",
        "    [9, 16, 11, 10.5],\n",
        "    [100, 95, 99, 102]\n",
        "])\n",
        "\n",
        "y_test = np.array([\n",
        "    [3.125],\n",
        "    [11.625],\n",
        "    [99.0]\n",
        "])"
      ],
      "metadata": {
        "id": "sYH2VrNUZw3K"
      },
      "execution_count": null,
      "outputs": []
    },
    {
      "cell_type": "markdown",
      "source": [
        "# Summary"
      ],
      "metadata": {
        "id": "B9nODXvYh4aC"
      }
    },
    {
      "cell_type": "code",
      "source": [
        "model.summary()"
      ],
      "metadata": {
        "colab": {
          "base_uri": "https://localhost:8080/"
        },
        "id": "_7AudI_Nh6qH",
        "outputId": "feb70de7-87fd-42ea-a99f-a9994496aa58"
      },
      "execution_count": null,
      "outputs": [
        {
          "output_type": "stream",
          "name": "stdout",
          "text": [
            "Model: \"sequential\"\n",
            "_________________________________________________________________\n",
            " Layer (type)                Output Shape              Param #   \n",
            "=================================================================\n",
            " dense (Dense)               (None, 8)                 40        \n",
            "                                                                 \n",
            " dense_1 (Dense)             (None, 16)                144       \n",
            "                                                                 \n",
            " dense_2 (Dense)             (None, 32)                544       \n",
            "                                                                 \n",
            " dense_3 (Dense)             (None, 16)                528       \n",
            "                                                                 \n",
            " dense_4 (Dense)             (None, 8)                 136       \n",
            "                                                                 \n",
            " dense_5 (Dense)             (None, 1)                 9         \n",
            "                                                                 \n",
            " dense_6 (Dense)             (None, 8)                 16        \n",
            "                                                                 \n",
            " dense_7 (Dense)             (None, 16)                144       \n",
            "                                                                 \n",
            " dense_8 (Dense)             (None, 32)                544       \n",
            "                                                                 \n",
            " dense_9 (Dense)             (None, 64)                2112      \n",
            "                                                                 \n",
            " dense_10 (Dense)            (None, 32)                2080      \n",
            "                                                                 \n",
            " dense_11 (Dense)            (None, 16)                528       \n",
            "                                                                 \n",
            " dense_12 (Dense)            (None, 8)                 136       \n",
            "                                                                 \n",
            " dense_13 (Dense)            (None, 1)                 9         \n",
            "                                                                 \n",
            "=================================================================\n",
            "Total params: 6,970\n",
            "Trainable params: 6,970\n",
            "Non-trainable params: 0\n",
            "_________________________________________________________________\n"
          ]
        }
      ]
    },
    {
      "cell_type": "markdown",
      "source": [
        "# Save the Model"
      ],
      "metadata": {
        "id": "fezsyKEXhh9t"
      }
    },
    {
      "cell_type": "code",
      "source": [
        "model.save('model.h5')\n",
        "# model.save('model.model')\n",
        "# model.save('model.network')"
      ],
      "metadata": {
        "id": "shm-7Yq6hhCu"
      },
      "execution_count": null,
      "outputs": []
    },
    {
      "cell_type": "markdown",
      "source": [
        "# Load and Use a Saved Keras Model"
      ],
      "metadata": {
        "id": "5r9lc4-IiZFT"
      }
    },
    {
      "cell_type": "code",
      "source": [
        "import numpy as np\n",
        "from keras.models import load_model"
      ],
      "metadata": {
        "id": "U8oWZnQyhz75"
      },
      "execution_count": null,
      "outputs": []
    },
    {
      "cell_type": "code",
      "source": [
        "modelx = load_model(\"model.h5\")"
      ],
      "metadata": {
        "id": "P711SvZyifsg"
      },
      "execution_count": null,
      "outputs": []
    },
    {
      "cell_type": "code",
      "source": [
        "modelx.summary()"
      ],
      "metadata": {
        "colab": {
          "base_uri": "https://localhost:8080/"
        },
        "id": "FQ_N9tddiijQ",
        "outputId": "a95617dc-7574-4640-b3b3-af01cd1ca344"
      },
      "execution_count": null,
      "outputs": [
        {
          "output_type": "stream",
          "name": "stdout",
          "text": [
            "Model: \"sequential\"\n",
            "_________________________________________________________________\n",
            " Layer (type)                Output Shape              Param #   \n",
            "=================================================================\n",
            " dense (Dense)               (None, 8)                 40        \n",
            "                                                                 \n",
            " dense_1 (Dense)             (None, 16)                144       \n",
            "                                                                 \n",
            " dense_2 (Dense)             (None, 32)                544       \n",
            "                                                                 \n",
            " dense_3 (Dense)             (None, 16)                528       \n",
            "                                                                 \n",
            " dense_4 (Dense)             (None, 8)                 136       \n",
            "                                                                 \n",
            " dense_5 (Dense)             (None, 1)                 9         \n",
            "                                                                 \n",
            " dense_6 (Dense)             (None, 8)                 16        \n",
            "                                                                 \n",
            " dense_7 (Dense)             (None, 16)                144       \n",
            "                                                                 \n",
            " dense_8 (Dense)             (None, 32)                544       \n",
            "                                                                 \n",
            " dense_9 (Dense)             (None, 64)                2112      \n",
            "                                                                 \n",
            " dense_10 (Dense)            (None, 32)                2080      \n",
            "                                                                 \n",
            " dense_11 (Dense)            (None, 16)                528       \n",
            "                                                                 \n",
            " dense_12 (Dense)            (None, 8)                 136       \n",
            "                                                                 \n",
            " dense_13 (Dense)            (None, 1)                 9         \n",
            "                                                                 \n",
            "=================================================================\n",
            "Total params: 6,970\n",
            "Trainable params: 6,970\n",
            "Non-trainable params: 0\n",
            "_________________________________________________________________\n"
          ]
        }
      ]
    },
    {
      "cell_type": "code",
      "source": [
        "x_predict = np.array([\n",
        "    [1.5, 2, 3.5, 4],\n",
        "    [13, 11, 9, 14],\n",
        "    [102, 98.5, 102.5, 100]\n",
        "])\n"
      ],
      "metadata": {
        "id": "dC7EPp-hinJ4"
      },
      "execution_count": null,
      "outputs": []
    },
    {
      "cell_type": "code",
      "source": [
        "output = modelx.predict(x_predict)"
      ],
      "metadata": {
        "id": "OgChwP9HiqdZ"
      },
      "execution_count": null,
      "outputs": []
    },
    {
      "cell_type": "code",
      "source": [
        "print(output)"
      ],
      "metadata": {
        "colab": {
          "base_uri": "https://localhost:8080/"
        },
        "id": "c9URcD0Git__",
        "outputId": "bbc592ef-0b96-4023-8c3f-cb93fd651c3c"
      },
      "execution_count": null,
      "outputs": [
        {
          "output_type": "stream",
          "name": "stdout",
          "text": [
            "[[ 2.135569]\n",
            " [11.880826]\n",
            " [89.8127  ]]\n"
          ]
        }
      ]
    },
    {
      "cell_type": "code",
      "source": [],
      "metadata": {
        "id": "YSbsksHuiwTP"
      },
      "execution_count": null,
      "outputs": []
    }
  ]
}